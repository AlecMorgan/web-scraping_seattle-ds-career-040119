{
 "cells": [
  {
   "cell_type": "code",
   "execution_count": 1,
   "metadata": {},
   "outputs": [],
   "source": [
    "%load_ext autoreload\n",
    "%autoreload 2"
   ]
  },
  {
   "cell_type": "code",
   "execution_count": 1,
   "metadata": {},
   "outputs": [],
   "source": [
    "import requests\n",
    "import random\n",
    "import time\n",
    "import pandas as pd\n",
    "from selenium.webdriver import Firefox, Chrome\n",
    "\n",
    "from scrape_functions import (\n",
    "    get_comic_title,\n",
    "    find_image,\n",
    "    scrape_image,\n",
    "    get_prev)"
   ]
  },
  {
   "cell_type": "code",
   "execution_count": null,
   "metadata": {},
   "outputs": [],
   "source": [
    "# uncomment the next line if you get an error\n",
    "#!pip install lxml"
   ]
  },
  {
   "cell_type": "code",
   "execution_count": 11,
   "metadata": {},
   "outputs": [],
   "source": [
    "fort_500 = pd.read_html('https://en.wikipedia.org/wiki/List_of_S%26P_500_companies')[0]"
   ]
  },
  {
   "cell_type": "code",
   "execution_count": 15,
   "metadata": {},
   "outputs": [
    {
     "data": {
      "text/plain": [
       "0                           3M Company\n",
       "1                  Abbott Laboratories\n",
       "2                          AbbVie Inc.\n",
       "3                          ABIOMED Inc\n",
       "4                        Accenture plc\n",
       "5                  Activision Blizzard\n",
       "6                    Adobe Systems Inc\n",
       "7           Advanced Micro Devices Inc\n",
       "8                   Advance Auto Parts\n",
       "9                             AES Corp\n",
       "10       Affiliated Managers Group Inc\n",
       "11                           AFLAC Inc\n",
       "12            Agilent Technologies Inc\n",
       "13        Air Products & Chemicals Inc\n",
       "14             Akamai Technologies Inc\n",
       "15                Alaska Air Group Inc\n",
       "16                      Albemarle Corp\n",
       "17     Alexandria Real Estate Equities\n",
       "18             Alexion Pharmaceuticals\n",
       "19                    Align Technology\n",
       "20                            Allegion\n",
       "21                       Allergan, Plc\n",
       "22               Alliance Data Systems\n",
       "23                 Alliant Energy Corp\n",
       "24                       Allstate Corp\n",
       "25                Alphabet Inc Class A\n",
       "26                Alphabet Inc Class C\n",
       "27                    Altria Group Inc\n",
       "28                     Amazon.com Inc.\n",
       "29                         Ameren Corp\n",
       "                    ...               \n",
       "475                        Viacom Inc.\n",
       "476                          Visa Inc.\n",
       "477               Vornado Realty Trust\n",
       "478                   Vulcan Materials\n",
       "479                 Wabtec Corporation\n",
       "480                            Walmart\n",
       "481           Walgreens Boots Alliance\n",
       "482            The Walt Disney Company\n",
       "483              Waste Management Inc.\n",
       "484                 Waters Corporation\n",
       "485               Wec Energy Group Inc\n",
       "486                           WellCare\n",
       "487                        Wells Fargo\n",
       "488                     Welltower Inc.\n",
       "489                    Western Digital\n",
       "490                   Western Union Co\n",
       "491                           WestRock\n",
       "492                       Weyerhaeuser\n",
       "493                    Whirlpool Corp.\n",
       "494                      Williams Cos.\n",
       "495               Willis Towers Watson\n",
       "496                   Wynn Resorts Ltd\n",
       "497                    Xcel Energy Inc\n",
       "498                              Xerox\n",
       "499                             Xilinx\n",
       "500                         Xylem Inc.\n",
       "501                    Yum! Brands Inc\n",
       "502             Zimmer Biomet Holdings\n",
       "503                      Zions Bancorp\n",
       "504                             Zoetis\n",
       "Name: Security, Length: 505, dtype: object"
      ]
     },
     "execution_count": 15,
     "metadata": {},
     "output_type": "execute_result"
    }
   ],
   "source": [
    "fort_500['Security']"
   ]
  },
  {
   "cell_type": "code",
   "execution_count": 3,
   "metadata": {},
   "outputs": [],
   "source": [
    "browser = Chrome()\n",
    "url = \"https://www.xkcd.com/\"\n",
    "browser.get(url)"
   ]
  },
  {
   "cell_type": "code",
   "execution_count": 13,
   "metadata": {},
   "outputs": [],
   "source": [
    "# for i in range(100):\n",
    "#     title = get_comic_title(browser)\n",
    "#     img = find_image(browser)\n",
    "#     filename = title.lower().replace(' ', '_') + '.png'\n",
    "#     print(filename)\n",
    "#     scrape_image(img, filename)\n",
    "#     get_prev(browser)\n",
    "#     time.sleep(3 + random.random()*10)"
   ]
  }
 ],
 "metadata": {
  "kernelspec": {
   "display_name": "Python 3",
   "language": "python",
   "name": "python3"
  },
  "language_info": {
   "codemirror_mode": {
    "name": "ipython",
    "version": 3
   },
   "file_extension": ".py",
   "mimetype": "text/x-python",
   "name": "python",
   "nbconvert_exporter": "python",
   "pygments_lexer": "ipython3",
   "version": "3.7.3"
  }
 },
 "nbformat": 4,
 "nbformat_minor": 2
}
